{
  "nbformat": 4,
  "nbformat_minor": 0,
  "metadata": {
    "colab": {
      "provenance": [],
      "gpuType": "T4",
      "authorship_tag": "ABX9TyP5YNz6qvGCWc/11o/j+t66",
      "include_colab_link": true
    },
    "kernelspec": {
      "name": "python3",
      "display_name": "Python 3"
    },
    "language_info": {
      "name": "python"
    },
    "accelerator": "GPU"
  },
  "cells": [
    {
      "cell_type": "markdown",
      "metadata": {
        "id": "view-in-github",
        "colab_type": "text"
      },
      "source": [
        "<a href=\"https://colab.research.google.com/github/therishabhmittal-05/camera/blob/main/Semantic_Segmentation/UNet_Semantic_Segmentation.ipynb\" target=\"_parent\"><img src=\"https://colab.research.google.com/assets/colab-badge.svg\" alt=\"Open In Colab\"/></a>"
      ]
    },
    {
      "cell_type": "code",
      "execution_count": 1,
      "metadata": {
        "id": "iJf-EIuHCgAt"
      },
      "outputs": [],
      "source": [
        "import torch\n",
        "import torchvision\n",
        "from torch import nn, optim"
      ]
    },
    {
      "cell_type": "code",
      "source": [
        "device = torch.device(\"cuda\" if torch.cuda.is_available() else \"cpu\")\n",
        "device"
      ],
      "metadata": {
        "colab": {
          "base_uri": "https://localhost:8080/"
        },
        "id": "ohKD1yZeLAeB",
        "outputId": "68d35c39-135c-43aa-b043-f0a5f19bc0fe"
      },
      "execution_count": 2,
      "outputs": [
        {
          "output_type": "execute_result",
          "data": {
            "text/plain": [
              "device(type='cuda')"
            ]
          },
          "metadata": {},
          "execution_count": 2
        }
      ]
    },
    {
      "cell_type": "code",
      "source": [
        "class DoubleConv(nn.Module):\n",
        "  def __init__(self, in_channels:int, out_channels:int):\n",
        "    super().__init__()\n",
        "    self.doubleconv = nn.Sequential(\n",
        "        nn.Conv2d(in_channels, out_channels, kernel_size=3, padding=1),\n",
        "        nn.ReLU(),\n",
        "        nn.Conv2d(out_channels, out_channels, kernel_size=3, padding=1),\n",
        "        nn.ReLU()\n",
        "    )\n",
        "\n",
        "  def forward(self, x):\n",
        "    return self.doubleconv(x)"
      ],
      "metadata": {
        "id": "LouqOqGkLYmU"
      },
      "execution_count": 3,
      "outputs": []
    },
    {
      "cell_type": "code",
      "source": [
        "class DownSample(nn.Module):\n",
        "  def __init__(self):\n",
        "    super().__init__()\n",
        "    self.downsample = nn.MaxPool2d(2)\n",
        "  def forward(self, x):\n",
        "    return self.downsample(x)"
      ],
      "metadata": {
        "id": "pjJP_6AjMMJH"
      },
      "execution_count": 4,
      "outputs": []
    },
    {
      "cell_type": "code",
      "source": [
        "class UpSample(nn.Module):\n",
        "  def __init__(self, in_channels:int, out_channels:int):\n",
        "    super().__init__()\n",
        "    self.upsample = nn.ConvTranspose2d(in_channels, out_channels, kernel_size=2, stride=2)\n",
        "  def forward(self, x):\n",
        "    return self.upsample(x)"
      ],
      "metadata": {
        "id": "KMxvIHxWMpJ9"
      },
      "execution_count": 6,
      "outputs": []
    },
    {
      "cell_type": "code",
      "source": [
        "class CropandConcat(nn.Module):\n",
        "  def forward(self, x, contract_x):\n",
        "    contract_x = torchvision.transforms.functional.center_crop(contract_x, (x.shape[2], x.shape[3]))\n",
        "    return torch.cat([x, contract_x], dim=1)"
      ],
      "metadata": {
        "id": "VSIC0xagMyrP"
      },
      "execution_count": 16,
      "outputs": []
    },
    {
      "cell_type": "code",
      "source": [
        "class Unet(nn.Module):\n",
        "  def __init__(self, in_channels:int, out_channels:int):\n",
        "    super().__init__()\n",
        "    self.downconv = nn.ModuleList(\n",
        "        [DoubleConv(i, o) for i, o in [(in_channels, 64), (64, 128), (128, 256), (256, 512)]]\n",
        "    )\n",
        "    self.downsample = nn.ModuleList(\n",
        "       [DownSample() for _ in range(4)]\n",
        "    )\n",
        "\n",
        "    self.middleconv = DoubleConv(512, 1024)\n",
        "    self.upsample = nn.ModuleList(\n",
        "        [UpSample(i, o) for i, o in [(1024, 512), (512, 256), (256, 128), (128, 64)]]\n",
        "    )\n",
        "    self.upconv = nn.ModuleList(\n",
        "        [DoubleConv(i, o) for i, o in [(1024, 512), (512, 256), (256, 128), (128, 64)]]\n",
        "    )\n",
        "    self.concat = nn.ModuleList(\n",
        "        [CropandConcat() for _ in range(4)]\n",
        "    )\n",
        "    self.finalconv = nn.Conv2d(64, out_channels, kernel_size=1)\n",
        "\n",
        "  def forward(self, x):\n",
        "    pass_contract = []\n",
        "    for i in range(len(self.downconv)):\n",
        "      x = self.downconv[i](x)\n",
        "      pass_contract.append(x)\n",
        "      x = self.downsample[i](x)\n",
        "    x = self.middleconv(x)\n",
        "    for i in range(len(self.upconv)):\n",
        "      x = self.upsample[i](x)\n",
        "      x = self.concat[i](x, pass_contract.pop())\n",
        "      x = self.upconv[i](x)\n",
        "    return self.finalconv(x)"
      ],
      "metadata": {
        "id": "VTiPSECnQLIi"
      },
      "execution_count": 17,
      "outputs": []
    },
    {
      "cell_type": "code",
      "source": [
        "model = Unet(64, 64).to(device)\n",
        "model\n"
      ],
      "metadata": {
        "colab": {
          "base_uri": "https://localhost:8080/"
        },
        "id": "_1opzFH8VzXX",
        "outputId": "31ab503e-bdc9-4f9a-c253-c87890577737"
      },
      "execution_count": 18,
      "outputs": [
        {
          "output_type": "execute_result",
          "data": {
            "text/plain": [
              "Unet(\n",
              "  (downconv): ModuleList(\n",
              "    (0): DoubleConv(\n",
              "      (doubleconv): Sequential(\n",
              "        (0): Conv2d(64, 64, kernel_size=(3, 3), stride=(1, 1), padding=(1, 1))\n",
              "        (1): ReLU()\n",
              "        (2): Conv2d(64, 64, kernel_size=(3, 3), stride=(1, 1), padding=(1, 1))\n",
              "        (3): ReLU()\n",
              "      )\n",
              "    )\n",
              "    (1): DoubleConv(\n",
              "      (doubleconv): Sequential(\n",
              "        (0): Conv2d(64, 128, kernel_size=(3, 3), stride=(1, 1), padding=(1, 1))\n",
              "        (1): ReLU()\n",
              "        (2): Conv2d(128, 128, kernel_size=(3, 3), stride=(1, 1), padding=(1, 1))\n",
              "        (3): ReLU()\n",
              "      )\n",
              "    )\n",
              "    (2): DoubleConv(\n",
              "      (doubleconv): Sequential(\n",
              "        (0): Conv2d(128, 256, kernel_size=(3, 3), stride=(1, 1), padding=(1, 1))\n",
              "        (1): ReLU()\n",
              "        (2): Conv2d(256, 256, kernel_size=(3, 3), stride=(1, 1), padding=(1, 1))\n",
              "        (3): ReLU()\n",
              "      )\n",
              "    )\n",
              "    (3): DoubleConv(\n",
              "      (doubleconv): Sequential(\n",
              "        (0): Conv2d(256, 512, kernel_size=(3, 3), stride=(1, 1), padding=(1, 1))\n",
              "        (1): ReLU()\n",
              "        (2): Conv2d(512, 512, kernel_size=(3, 3), stride=(1, 1), padding=(1, 1))\n",
              "        (3): ReLU()\n",
              "      )\n",
              "    )\n",
              "  )\n",
              "  (downsample): ModuleList(\n",
              "    (0-3): 4 x DownSample(\n",
              "      (downsample): MaxPool2d(kernel_size=2, stride=2, padding=0, dilation=1, ceil_mode=False)\n",
              "    )\n",
              "  )\n",
              "  (middleconv): DoubleConv(\n",
              "    (doubleconv): Sequential(\n",
              "      (0): Conv2d(512, 1024, kernel_size=(3, 3), stride=(1, 1), padding=(1, 1))\n",
              "      (1): ReLU()\n",
              "      (2): Conv2d(1024, 1024, kernel_size=(3, 3), stride=(1, 1), padding=(1, 1))\n",
              "      (3): ReLU()\n",
              "    )\n",
              "  )\n",
              "  (upsample): ModuleList(\n",
              "    (0): UpSample(\n",
              "      (upsample): ConvTranspose2d(1024, 512, kernel_size=(2, 2), stride=(2, 2))\n",
              "    )\n",
              "    (1): UpSample(\n",
              "      (upsample): ConvTranspose2d(512, 256, kernel_size=(2, 2), stride=(2, 2))\n",
              "    )\n",
              "    (2): UpSample(\n",
              "      (upsample): ConvTranspose2d(256, 128, kernel_size=(2, 2), stride=(2, 2))\n",
              "    )\n",
              "    (3): UpSample(\n",
              "      (upsample): ConvTranspose2d(128, 64, kernel_size=(2, 2), stride=(2, 2))\n",
              "    )\n",
              "  )\n",
              "  (upconv): ModuleList(\n",
              "    (0): DoubleConv(\n",
              "      (doubleconv): Sequential(\n",
              "        (0): Conv2d(1024, 512, kernel_size=(3, 3), stride=(1, 1), padding=(1, 1))\n",
              "        (1): ReLU()\n",
              "        (2): Conv2d(512, 512, kernel_size=(3, 3), stride=(1, 1), padding=(1, 1))\n",
              "        (3): ReLU()\n",
              "      )\n",
              "    )\n",
              "    (1): DoubleConv(\n",
              "      (doubleconv): Sequential(\n",
              "        (0): Conv2d(512, 256, kernel_size=(3, 3), stride=(1, 1), padding=(1, 1))\n",
              "        (1): ReLU()\n",
              "        (2): Conv2d(256, 256, kernel_size=(3, 3), stride=(1, 1), padding=(1, 1))\n",
              "        (3): ReLU()\n",
              "      )\n",
              "    )\n",
              "    (2): DoubleConv(\n",
              "      (doubleconv): Sequential(\n",
              "        (0): Conv2d(256, 128, kernel_size=(3, 3), stride=(1, 1), padding=(1, 1))\n",
              "        (1): ReLU()\n",
              "        (2): Conv2d(128, 128, kernel_size=(3, 3), stride=(1, 1), padding=(1, 1))\n",
              "        (3): ReLU()\n",
              "      )\n",
              "    )\n",
              "    (3): DoubleConv(\n",
              "      (doubleconv): Sequential(\n",
              "        (0): Conv2d(128, 64, kernel_size=(3, 3), stride=(1, 1), padding=(1, 1))\n",
              "        (1): ReLU()\n",
              "        (2): Conv2d(64, 64, kernel_size=(3, 3), stride=(1, 1), padding=(1, 1))\n",
              "        (3): ReLU()\n",
              "      )\n",
              "    )\n",
              "  )\n",
              "  (concat): ModuleList(\n",
              "    (0-3): 4 x CropandConcat()\n",
              "  )\n",
              "  (finalconv): Conv2d(64, 64, kernel_size=(1, 1), stride=(1, 1))\n",
              ")"
            ]
          },
          "metadata": {},
          "execution_count": 18
        }
      ]
    },
    {
      "cell_type": "code",
      "source": [
        "from torchsummary import summary\n",
        "summary(model, (64, 256, 256))"
      ],
      "metadata": {
        "colab": {
          "base_uri": "https://localhost:8080/"
        },
        "id": "zDpWOcYZWDUI",
        "outputId": "4feedc36-6c84-4905-ae71-44511e3332fd"
      },
      "execution_count": 19,
      "outputs": [
        {
          "output_type": "stream",
          "name": "stdout",
          "text": [
            "----------------------------------------------------------------\n",
            "        Layer (type)               Output Shape         Param #\n",
            "================================================================\n",
            "            Conv2d-1         [-1, 64, 256, 256]          36,928\n",
            "              ReLU-2         [-1, 64, 256, 256]               0\n",
            "            Conv2d-3         [-1, 64, 256, 256]          36,928\n",
            "              ReLU-4         [-1, 64, 256, 256]               0\n",
            "        DoubleConv-5         [-1, 64, 256, 256]               0\n",
            "         MaxPool2d-6         [-1, 64, 128, 128]               0\n",
            "        DownSample-7         [-1, 64, 128, 128]               0\n",
            "            Conv2d-8        [-1, 128, 128, 128]          73,856\n",
            "              ReLU-9        [-1, 128, 128, 128]               0\n",
            "           Conv2d-10        [-1, 128, 128, 128]         147,584\n",
            "             ReLU-11        [-1, 128, 128, 128]               0\n",
            "       DoubleConv-12        [-1, 128, 128, 128]               0\n",
            "        MaxPool2d-13          [-1, 128, 64, 64]               0\n",
            "       DownSample-14          [-1, 128, 64, 64]               0\n",
            "           Conv2d-15          [-1, 256, 64, 64]         295,168\n",
            "             ReLU-16          [-1, 256, 64, 64]               0\n",
            "           Conv2d-17          [-1, 256, 64, 64]         590,080\n",
            "             ReLU-18          [-1, 256, 64, 64]               0\n",
            "       DoubleConv-19          [-1, 256, 64, 64]               0\n",
            "        MaxPool2d-20          [-1, 256, 32, 32]               0\n",
            "       DownSample-21          [-1, 256, 32, 32]               0\n",
            "           Conv2d-22          [-1, 512, 32, 32]       1,180,160\n",
            "             ReLU-23          [-1, 512, 32, 32]               0\n",
            "           Conv2d-24          [-1, 512, 32, 32]       2,359,808\n",
            "             ReLU-25          [-1, 512, 32, 32]               0\n",
            "       DoubleConv-26          [-1, 512, 32, 32]               0\n",
            "        MaxPool2d-27          [-1, 512, 16, 16]               0\n",
            "       DownSample-28          [-1, 512, 16, 16]               0\n",
            "           Conv2d-29         [-1, 1024, 16, 16]       4,719,616\n",
            "             ReLU-30         [-1, 1024, 16, 16]               0\n",
            "           Conv2d-31         [-1, 1024, 16, 16]       9,438,208\n",
            "             ReLU-32         [-1, 1024, 16, 16]               0\n",
            "       DoubleConv-33         [-1, 1024, 16, 16]               0\n",
            "  ConvTranspose2d-34          [-1, 512, 32, 32]       2,097,664\n",
            "         UpSample-35          [-1, 512, 32, 32]               0\n",
            "    CropandConcat-36         [-1, 1024, 32, 32]               0\n",
            "           Conv2d-37          [-1, 512, 32, 32]       4,719,104\n",
            "             ReLU-38          [-1, 512, 32, 32]               0\n",
            "           Conv2d-39          [-1, 512, 32, 32]       2,359,808\n",
            "             ReLU-40          [-1, 512, 32, 32]               0\n",
            "       DoubleConv-41          [-1, 512, 32, 32]               0\n",
            "  ConvTranspose2d-42          [-1, 256, 64, 64]         524,544\n",
            "         UpSample-43          [-1, 256, 64, 64]               0\n",
            "    CropandConcat-44          [-1, 512, 64, 64]               0\n",
            "           Conv2d-45          [-1, 256, 64, 64]       1,179,904\n",
            "             ReLU-46          [-1, 256, 64, 64]               0\n",
            "           Conv2d-47          [-1, 256, 64, 64]         590,080\n",
            "             ReLU-48          [-1, 256, 64, 64]               0\n",
            "       DoubleConv-49          [-1, 256, 64, 64]               0\n",
            "  ConvTranspose2d-50        [-1, 128, 128, 128]         131,200\n",
            "         UpSample-51        [-1, 128, 128, 128]               0\n",
            "    CropandConcat-52        [-1, 256, 128, 128]               0\n",
            "           Conv2d-53        [-1, 128, 128, 128]         295,040\n",
            "             ReLU-54        [-1, 128, 128, 128]               0\n",
            "           Conv2d-55        [-1, 128, 128, 128]         147,584\n",
            "             ReLU-56        [-1, 128, 128, 128]               0\n",
            "       DoubleConv-57        [-1, 128, 128, 128]               0\n",
            "  ConvTranspose2d-58         [-1, 64, 256, 256]          32,832\n",
            "         UpSample-59         [-1, 64, 256, 256]               0\n",
            "    CropandConcat-60        [-1, 128, 256, 256]               0\n",
            "           Conv2d-61         [-1, 64, 256, 256]          73,792\n",
            "             ReLU-62         [-1, 64, 256, 256]               0\n",
            "           Conv2d-63         [-1, 64, 256, 256]          36,928\n",
            "             ReLU-64         [-1, 64, 256, 256]               0\n",
            "       DoubleConv-65         [-1, 64, 256, 256]               0\n",
            "           Conv2d-66         [-1, 64, 256, 256]           4,160\n",
            "================================================================\n",
            "Total params: 31,070,976\n",
            "Trainable params: 31,070,976\n",
            "Non-trainable params: 0\n",
            "----------------------------------------------------------------\n",
            "Input size (MB): 16.00\n",
            "Forward/backward pass size (MB): 912.00\n",
            "Params size (MB): 118.53\n",
            "Estimated Total Size (MB): 1046.53\n",
            "----------------------------------------------------------------\n"
          ]
        }
      ]
    },
    {
      "cell_type": "code",
      "source": [],
      "metadata": {
        "id": "A5yxP3pVX7Tz"
      },
      "execution_count": null,
      "outputs": []
    }
  ]
}